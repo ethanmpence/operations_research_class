{
 "cells": [
  {
   "cell_type": "markdown",
   "metadata": {},
   "source": [
    "## Ethan Pence\n",
    "## CPSMA-3933-01, 12:30 PM - 1:45 PM\n",
    "## Lab 0"
   ]
  },
  {
   "cell_type": "markdown",
   "metadata": {},
   "source": [
    "One of my favorite functions is one that I have written for Luau (which is a programming language utilized by Roblox). It is a very simple function called Vector3Normalize. The reason I like the function is because Roblox's default way of normalizing Vector3s will cause an error if the magnitude is zero. This results in minutely tedious code (constantly) such as the following everywhere:\n",
    "\n",
    "if vector3.mag ~= 0\n",
    "    return vector3.unit (normalized vector3)\n",
    "else\n",
    "    return vector3.zero\n",
    "    \n",
    "With my function you can simply do: return Vector3Normalize(vector3).\n",
    "\n",
    "Overall, it is a relatively minor thing, but when you have made the same mistake of forgetting to do the above with '.unit' over and over, it's useful."
   ]
  },
  {
   "cell_type": "code",
   "execution_count": null,
   "metadata": {},
   "outputs": [],
   "source": [
    "import math\n",
    "\n",
    "def Vector3Normalize(vec):\n",
    "    sqrlen = (vec[0] * vec[0] + vec[1] * vec[1] + vec[2] * vec[2]) + 1.0e-10\n",
    "    invlen = 1.0 / math.sqrt(sqrlen)\n",
    "\n",
    "    return [vec[0] * invlen, vec[1] * invlen, vec[2] * invlen]\n",
    "\n",
    "print(Vector3Normalize([0, 10, 0]))\n",
    "print(Vector3Normalize([0, 0, 0]))"
   ]
  },
  {
   "cell_type": "markdown",
   "metadata": {},
   "source": [
    "The list is gotten based upon user input, where they are required to enter a series of numbers with a single space between each. This string list is then converted to a float list. "
   ]
  },
  {
   "cell_type": "code",
   "execution_count": null,
   "metadata": {},
   "outputs": [],
   "source": [
    "string_score_List = input(\"Enter the scores for ten quizzes. (EX: '1 2 3 ... 10') \").split()\n",
    "\n",
    "float_score_list = [float(s) for s in string_score_List]\n",
    "\n",
    "average_score = sum(float_score_list)/10\n",
    "\n",
    "print(f\"Total of all scores: {sum(float_score_list)}\")\n",
    "print(f\"Maximum score: {max(float_score_list)}\")\n",
    "print(f\"Minimum score: {min(float_score_list)}\")\n",
    "print(f\"Number of scores exceeding average: {sum(t > average_score for t in float_score_list)}\")"
   ]
  }
 ],
 "metadata": {
  "kernelspec": {
   "display_name": "Python 3",
   "language": "python",
   "name": "python3"
  },
  "language_info": {
   "codemirror_mode": {
    "name": "ipython",
    "version": 3
   },
   "file_extension": ".py",
   "mimetype": "text/x-python",
   "name": "python",
   "nbconvert_exporter": "python",
   "pygments_lexer": "ipython3",
   "version": "3.8.3"
  }
 },
 "nbformat": 4,
 "nbformat_minor": 4
}
