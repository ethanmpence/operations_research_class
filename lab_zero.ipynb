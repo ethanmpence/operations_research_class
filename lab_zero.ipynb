{
 "cells": [
  {
   "cell_type": "markdown",
   "metadata": {},
   "source": [
    "## Ethan Pence\n",
    "## CPSMA-3933-01, 12:30 PM - 1:45 PM\n",
    "## Lab 0"
   ]
  },
  {
   "cell_type": "markdown",
   "metadata": {},
   "source": [
    "One of my favorite functions is one that I have written for Luau. It is a port of a function used in Source Engine. The relatively simple function is called Vector3Normalize. The reason I like the function is because Roblox's default way of normalizing Vector3s will cause an error if the magnitude is zero. This results in minutely tedious code (constantly) such as the following everywhere:\n",
    "\n",
    "if vector3.mag ~= 0\n",
    "    return vector3.unit (normalized vector3)\n",
    "else\n",
    "    return vector3.zero\n",
    "    \n",
    "With my function you can simply do: return Vector3Normalize(vector3).\n",
    "\n",
    "Overall, it is a relatively minor thing, but when you have made the same mistake of forgetting to do the above with '.unit' over and over, it's useful. The function is also very efficient (at least in C++)."
   ]
  },
  {
   "cell_type": "code",
   "execution_count": 1,
   "metadata": {},
   "outputs": [
    {
     "name": "stdout",
     "output_type": "stream",
     "text": [
      "[0.0, 0.9999999999995, 0.0]\n",
      "[0.0, 0.0, 0.0]\n"
     ]
    }
   ],
   "source": [
    "import math\n",
    "\n",
    "def vector3_normalize(vec):\n",
    "    sqr_len = (vec[0] * vec[0] + vec[1] * vec[1] + vec[2] * vec[2]) + 1.0e-10\n",
    "    inv_len = 1.0 / math.sqrt(sqr_len)\n",
    "\n",
    "    return [vec[0] * inv_len, vec[1] * inv_len, vec[2] * inv_len]\n",
    "\n",
    "print(vector3_normalize([0, 10, 0]))\n",
    "print(vector3_normalize([0, 0, 0]))"
   ]
  },
  {
   "cell_type": "markdown",
   "metadata": {},
   "source": [
    "The list is gotten based upon user input, where they are required to enter a series of numbers with a single space between each. This string list is then converted to a float list. "
   ]
  },
  {
   "cell_type": "code",
   "execution_count": 3,
   "metadata": {},
   "outputs": [
    {
     "name": "stdout",
     "output_type": "stream",
     "text": [
      "Enter the scores for ten quizzes. (EX: '1 2 3 ... 10') 99 84 92 93 99 100 91 85 96 100\n",
      "Total of all scores: 939.0\n",
      "Maximum score: 100.0\n",
      "Minimum score: 84.0\n",
      "Average score: 93.9\n",
      "Number of scores exceeding average: 5\n"
     ]
    }
   ],
   "source": [
    "string_score_List = input(\"Enter the scores for ten quizzes. (EX: '1 2 3 ... 10') \").split()\n",
    "\n",
    "float_score_list = [float(s) for s in string_score_List]\n",
    "\n",
    "average_score = sum(float_score_list)/10\n",
    "\n",
    "print(f\"Total of all scores: {sum(float_score_list)}\")\n",
    "print(f\"Maximum score: {max(float_score_list)}\")\n",
    "print(f\"Minimum score: {min(float_score_list)}\")\n",
    "print(f\"Average score: {average_score}\")\n",
    "print(f\"Number of scores exceeding average: {sum(t > average_score for t in float_score_list)}\")"
   ]
  },
  {
   "cell_type": "code",
   "execution_count": null,
   "metadata": {},
   "outputs": [],
   "source": []
  }
 ],
 "metadata": {
  "kernelspec": {
   "display_name": "Python 3",
   "language": "python",
   "name": "python3"
  },
  "language_info": {
   "codemirror_mode": {
    "name": "ipython",
    "version": 3
   },
   "file_extension": ".py",
   "mimetype": "text/x-python",
   "name": "python",
   "nbconvert_exporter": "python",
   "pygments_lexer": "ipython3",
   "version": "3.8.3"
  }
 },
 "nbformat": 4,
 "nbformat_minor": 4
}
