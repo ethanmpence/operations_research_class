{
 "cells": [
  {
   "cell_type": "markdown",
   "metadata": {},
   "source": [
    "# Ethan Pence\n",
    "# CPSMA-3933-01, 12:30 PM - 1:45 PM\n",
    "# Lab 5"
   ]
  },
  {
   "cell_type": "markdown",
   "metadata": {},
   "source": [
    "First, I will find the analytical equation.\n",
    "\n",
    "f(0) = 1, f(1) = 3\n",
    "\n",
    "r^n = 7 * r^(n - 1) - 10 * r^(n - 2)\n",
    "\n",
    "r^2 = 7r - 10\n",
    "\n",
    "r^2 - 7r + 10 = 0\n",
    "\n",
    "(r - 5)(r - 2)\n",
    "\n",
    "r1 = 2, r2 = 5\n",
    "\n",
    "f(0) = 1 = c_1 * (2)^0 + c_2 * (5)^0\n",
    "\n",
    "c_1 + c_2 = 1\n",
    "\n",
    "f(1) = 3 = c_1 * (2)^1 + c_2 * (5)^1\n",
    "\n",
    "2c_1 + 5c_2 = 3\n",
    "\n",
    "-2(c_1 + c_2 = 1) = ( -2c_1 - 2c_2 = -2 )\n",
    "\n",
    "(-2c_1 - 2c_2) + (2c_1 + 5c_2) = -2 + 3\n",
    "\n",
    "3c_2 = 1\n",
    "\n",
    "c_2 = 1/3\n",
    "\n",
    "c_1 = 2/3\n",
    "\n",
    "f(n) = 2/3 * 2^n + 1/3 * 5^n\n",
    "\n",
    "\n",
    "Below is a function made from the equation. (made to use ints)"
   ]
  },
  {
   "cell_type": "code",
   "execution_count": 45,
   "metadata": {},
   "outputs": [
    {
     "name": "stdout",
     "output_type": "stream",
     "text": [
      "5251\n"
     ]
    }
   ],
   "source": [
    "def analytic_equation(n):\n",
    "    return (5**n + 2**(n+1)) // 3\n",
    "\n",
    "print(analytic_equation(6))"
   ]
  },
  {
   "cell_type": "markdown",
   "metadata": {},
   "source": [
    "Below is another way of solving the equation using bottom up dynamic programming."
   ]
  },
  {
   "cell_type": "code",
   "execution_count": 46,
   "metadata": {},
   "outputs": [
    {
     "name": "stdout",
     "output_type": "stream",
     "text": [
      "5251\n"
     ]
    }
   ],
   "source": [
    "a_n_1 = 3\n",
    "a_n_2 = 1\n",
    "\n",
    "a_n = 0\n",
    "\n",
    "for n in range(5):\n",
    "    a_n = 7 * a_n_1 - 10 * a_n_2\n",
    "    \n",
    "    a_n_2 = a_n_1\n",
    "    a_n_1 = a_n\n",
    "    \n",
    "print(a_n)"
   ]
  },
  {
   "cell_type": "markdown",
   "metadata": {},
   "source": [
    "Below is an example solving the equation using top down dynamic programming and memoization."
   ]
  },
  {
   "cell_type": "code",
   "execution_count": 47,
   "metadata": {},
   "outputs": [
    {
     "name": "stdout",
     "output_type": "stream",
     "text": [
      "5251\n"
     ]
    }
   ],
   "source": [
    "def recursive(n, m_array):\n",
    "    if m_array[n] is not None:\n",
    "        return m_array[n]\n",
    "    \n",
    "    if n == 0:\n",
    "        return 1\n",
    "\n",
    "    if n == 1:\n",
    "        return 3\n",
    "    \n",
    "    solution = 7 * recursive(n - 1, m_array) - 10 * recursive(n - 2, m_array)\n",
    "    \n",
    "    m_array[n] = solution\n",
    "    \n",
    "    return solution\n",
    "\n",
    "def call(n):\n",
    "    m_array = [None] * (n + 1)\n",
    "    return recursive(n, m_array)\n",
    "    \n",
    "print(call(6))"
   ]
  },
  {
   "cell_type": "markdown",
   "metadata": {},
   "source": [
    "All three functions achieved the same result of 5251 for f(6).\n",
    "\n",
    "The analytic function is the fastest in terms of computation time, however, it is also the most difficult to create.\n",
    "\n",
    "The bottom up method is both simple to create and the second fastest.\n",
    "\n",
    "The top down method is roughly equal in difficulty of creation with the bottom up method. However, the top down method can easily run into stack overflow errors at larger values of n.\n",
    "\n",
    "All of the methods are able to calculate n = 1000 almost instantly."
   ]
  }
 ],
 "metadata": {
  "kernelspec": {
   "display_name": "Python 3",
   "language": "python",
   "name": "python3"
  },
  "language_info": {
   "codemirror_mode": {
    "name": "ipython",
    "version": 3
   },
   "file_extension": ".py",
   "mimetype": "text/x-python",
   "name": "python",
   "nbconvert_exporter": "python",
   "pygments_lexer": "ipython3",
   "version": "3.8.3"
  }
 },
 "nbformat": 4,
 "nbformat_minor": 4
}
