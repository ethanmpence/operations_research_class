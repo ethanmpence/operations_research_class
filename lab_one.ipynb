{
 "cells": [
  {
   "cell_type": "markdown",
   "metadata": {},
   "source": [
    "# Ethan Pence\n",
    "# CPSMA-3933-01, 12:30 PM - 1:45 PM\n",
    "# Lab 1"
   ]
  },
  {
   "cell_type": "markdown",
   "metadata": {},
   "source": [
    "## Problem 1"
   ]
  },
  {
   "cell_type": "code",
   "execution_count": 41,
   "metadata": {
    "scrolled": true
   },
   "outputs": [
    {
     "name": "stdout",
     "output_type": "stream",
     "text": [
      "Input a income: 11001\n",
      "1100.12\n"
     ]
    }
   ],
   "source": [
    "def compute_tax(income):\n",
    "    if income >=0 and income <= 11000:\n",
    "        return income * 0.1\n",
    "    elif income <= 44725:\n",
    "        return 1100 + (income - 11000) * 0.12\n",
    "    elif income <= 95375:\n",
    "        return 5147 + (income - 44725) * 0.22\n",
    "    elif income <= 182100:\n",
    "        return 16290 + (income - 95375) * 0.24\n",
    "    elif income <= 231250:\n",
    "        return 37104 + (income - 182100) * 0.32\n",
    "    elif income <= 578125:\n",
    "        return 52832 + (income - 231250) * 0.35\n",
    "    elif income >= 578126:\n",
    "        return 174238.25 + (income - 578125) * 0.37\n",
    "    else:\n",
    "        raise ValueError(\"ERROR! Input cannot be negative.\")\n",
    "\n",
    "try:\n",
    "    print(compute_tax(float(input(\"Input a income: \"))))\n",
    "except Exception as e:\n",
    "    print(e)\n"
   ]
  },
  {
   "cell_type": "markdown",
   "metadata": {},
   "source": [
    "## Problem 2"
   ]
  },
  {
   "cell_type": "code",
   "execution_count": 1,
   "metadata": {},
   "outputs": [
    {
     "name": "stdout",
     "output_type": "stream",
     "text": [
      "[0.6931471805599453, 0.9531017980432493, 0.9995003330834232, 0.9990013313365289, 0.9999500033329731, 1.000000082690371]\n"
     ]
    }
   ],
   "source": [
    "import math\n",
    "\n",
    "def compute_diff_formula(h):\n",
    "    return (math.log(1 + h) - math.log(1)) / h\n",
    "\n",
    "\n",
    "h_list = [1, 0.1, 0.001, 0.002, 0.0001, 0.0000000001]\n",
    "\n",
    "print([compute_diff_formula(num) for num in h_list])\n"
   ]
  },
  {
   "cell_type": "markdown",
   "metadata": {},
   "source": [
    "## Problem 3"
   ]
  },
  {
   "cell_type": "code",
   "execution_count": 42,
   "metadata": {},
   "outputs": [
    {
     "name": "stdout",
     "output_type": "stream",
     "text": [
      "Equation is: True\n"
     ]
    }
   ],
   "source": [
    "def is_formula_valid(n):\n",
    "    left_hand_side = sum([x**3 for x in range(0, n + 1)])\n",
    "    right_hand_side = ((n * (n + 1))/2 )**2\n",
    "    \n",
    "    if left_hand_side == right_hand_side:\n",
    "        return True\n",
    "    else:\n",
    "        return False\n",
    "\n",
    "print(f\"Equation is: {all(is_formula_valid(x) for x in range(1001))}\")\n",
    "    "
   ]
  }
 ],
 "metadata": {
  "kernelspec": {
   "display_name": "Python 3",
   "language": "python",
   "name": "python3"
  },
  "language_info": {
   "codemirror_mode": {
    "name": "ipython",
    "version": 3
   },
   "file_extension": ".py",
   "mimetype": "text/x-python",
   "name": "python",
   "nbconvert_exporter": "python",
   "pygments_lexer": "ipython3",
   "version": "3.8.3"
  }
 },
 "nbformat": 4,
 "nbformat_minor": 4
}
